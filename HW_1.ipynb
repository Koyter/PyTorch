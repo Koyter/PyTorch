{
  "cells": [
    {
      "cell_type": "code",
      "execution_count": 1,
      "metadata": {
        "id": "_CNZn_3CofVO"
      },
      "outputs": [],
      "source": [
        "from IPython import display\n",
        "import numpy as np\n",
        "import random\n",
        "import torch"
      ]
    },
    {
      "cell_type": "code",
      "execution_count": null,
      "metadata": {
        "id": "QGYTKAxeofVR"
      },
      "outputs": [],
      "source": [
        "# 1. Создайте случайный FloatTensor размера 3x4x5"
      ]
    },
    {
      "cell_type": "code",
      "source": [
        "b = torch.randn(3, 4, 5).type(torch.FloatTensor)\n",
        "b"
      ],
      "metadata": {
        "colab": {
          "base_uri": "https://localhost:8080/"
        },
        "id": "y81yNX-x0LPV",
        "outputId": "6bd08c72-7a8b-4efa-94c8-a9f63ec240a8"
      },
      "execution_count": 33,
      "outputs": [
        {
          "output_type": "execute_result",
          "data": {
            "text/plain": [
              "tensor([[[-1.8746, -0.6120,  0.5565, -0.2019, -0.4360],\n",
              "         [-0.4404,  0.8994,  1.6982, -0.5157, -0.5647],\n",
              "         [-0.1462,  1.5080, -1.3776, -0.1607,  0.8001],\n",
              "         [ 1.0832, -0.4813, -0.7962, -1.3673,  0.1854]],\n",
              "\n",
              "        [[-0.2974, -0.8391,  0.1897, -1.9949,  1.1139],\n",
              "         [ 0.1279, -0.0523, -2.1656, -1.3535, -0.0030],\n",
              "         [ 1.2434, -1.6654,  2.0018, -0.4685, -0.9994],\n",
              "         [ 0.6983, -0.2532, -0.6050,  1.1769, -0.1589]],\n",
              "\n",
              "        [[ 1.3729, -1.1770, -0.0896,  0.3982,  1.6095],\n",
              "         [-0.7738, -0.7879, -0.4948,  0.7702, -0.3111],\n",
              "         [-1.1654, -0.5321,  0.1229, -0.0495, -0.3366],\n",
              "         [-0.1045,  0.6379, -0.6465, -1.9448,  0.7145]]])"
            ]
          },
          "metadata": {},
          "execution_count": 33
        }
      ]
    },
    {
      "cell_type": "code",
      "execution_count": 34,
      "metadata": {
        "id": "7GV_q8DdofVV"
      },
      "outputs": [],
      "source": [
        "# 2. Выведите его форму (shape)"
      ]
    },
    {
      "cell_type": "code",
      "source": [
        "b.shape"
      ],
      "metadata": {
        "colab": {
          "base_uri": "https://localhost:8080/"
        },
        "id": "35GJe1kX0XSU",
        "outputId": "b85d33b2-40fb-4672-cc29-fcb9d925a435"
      },
      "execution_count": 35,
      "outputs": [
        {
          "output_type": "execute_result",
          "data": {
            "text/plain": [
              "torch.Size([3, 4, 5])"
            ]
          },
          "metadata": {},
          "execution_count": 35
        }
      ]
    },
    {
      "cell_type": "code",
      "execution_count": 36,
      "metadata": {
        "id": "f1OTy65FofVX"
      },
      "outputs": [],
      "source": [
        "# 3. Приведите его к форме 6х10"
      ]
    },
    {
      "cell_type": "code",
      "source": [
        "print(f\"Reshape: \\n{b.reshape(6, 10)} \\nshape: {b.reshape(6, 10).size()}\")"
      ],
      "metadata": {
        "colab": {
          "base_uri": "https://localhost:8080/"
        },
        "id": "ar9cF6fF3ZsL",
        "outputId": "57e11b30-dd2b-45a8-d020-7534acf9ace5"
      },
      "execution_count": 47,
      "outputs": [
        {
          "output_type": "stream",
          "name": "stdout",
          "text": [
            "Reshape: \n",
            "tensor([[-1.8746, -0.6120,  0.5565, -0.2019, -0.4360, -0.4404,  0.8994,  1.6982,\n",
            "         -0.5157, -0.5647],\n",
            "        [-0.1462,  1.5080, -1.3776, -0.1607,  0.8001,  1.0832, -0.4813, -0.7962,\n",
            "         -1.3673,  0.1854],\n",
            "        [-0.2974, -0.8391,  0.1897, -1.9949,  1.1139,  0.1279, -0.0523, -2.1656,\n",
            "         -1.3535, -0.0030],\n",
            "        [ 1.2434, -1.6654,  2.0018, -0.4685, -0.9994,  0.6983, -0.2532, -0.6050,\n",
            "          1.1769, -0.1589],\n",
            "        [ 1.3729, -1.1770, -0.0896,  0.3982,  1.6095, -0.7738, -0.7879, -0.4948,\n",
            "          0.7702, -0.3111],\n",
            "        [-1.1654, -0.5321,  0.1229, -0.0495, -0.3366, -0.1045,  0.6379, -0.6465,\n",
            "         -1.9448,  0.7145]]) \n",
            "shape: torch.Size([6, 10])\n"
          ]
        }
      ]
    },
    {
      "cell_type": "code",
      "execution_count": 38,
      "metadata": {
        "id": "BEVOv9_TofVe"
      },
      "outputs": [],
      "source": [
        "# 4. Создайте случайный IntTensor размера 10"
      ]
    },
    {
      "cell_type": "code",
      "source": [
        "a = torch.randn(10).type(torch.IntTensor)\n",
        "a"
      ],
      "metadata": {
        "colab": {
          "base_uri": "https://localhost:8080/"
        },
        "id": "3Mc675xb4JFN",
        "outputId": "b19764b7-1fc6-4b35-a6e7-aa9d3313580c"
      },
      "execution_count": 39,
      "outputs": [
        {
          "output_type": "execute_result",
          "data": {
            "text/plain": [
              "tensor([ 0,  0, -1,  0,  0, -1, -1,  1, -2, -2], dtype=torch.int32)"
            ]
          },
          "metadata": {},
          "execution_count": 39
        }
      ]
    },
    {
      "cell_type": "code",
      "source": [
        "# 5. Умножьте созданный FloatTensor на созданный IntTensor поэлементно"
      ],
      "metadata": {
        "id": "TAX3DUiSa07K"
      },
      "execution_count": 40,
      "outputs": []
    },
    {
      "cell_type": "code",
      "source": [
        "b * a"
      ],
      "metadata": {
        "colab": {
          "base_uri": "https://localhost:8080/"
        },
        "id": "wiJq-4dO5bJ-",
        "outputId": "f120ab84-baab-4b53-f037-860683189102"
      },
      "execution_count": 55,
      "outputs": [
        {
          "output_type": "execute_result",
          "data": {
            "text/plain": [
              "tensor([[-0.0000, -0.0000, -0.5565, -0.0000, -0.0000,  0.4404, -0.8994,  1.6982,\n",
              "          1.0314,  1.1294],\n",
              "        [-0.0000,  0.0000,  1.3776, -0.0000,  0.0000, -1.0832,  0.4813, -0.7962,\n",
              "          2.7346, -0.3708],\n",
              "        [-0.0000, -0.0000, -0.1897, -0.0000,  0.0000, -0.1279,  0.0523, -2.1656,\n",
              "          2.7071,  0.0061],\n",
              "        [ 0.0000, -0.0000, -2.0018, -0.0000, -0.0000, -0.6983,  0.2532, -0.6050,\n",
              "         -2.3539,  0.3178],\n",
              "        [ 0.0000, -0.0000,  0.0896,  0.0000,  0.0000,  0.7738,  0.7879, -0.4948,\n",
              "         -1.5405,  0.6223],\n",
              "        [-0.0000, -0.0000, -0.1229, -0.0000, -0.0000,  0.1045, -0.6379, -0.6465,\n",
              "          3.8895, -1.4290]])"
            ]
          },
          "metadata": {},
          "execution_count": 55
        }
      ]
    },
    {
      "cell_type": "code",
      "execution_count": null,
      "metadata": {
        "id": "eUxdWlQZofVi"
      },
      "outputs": [],
      "source": [
        "# 6. Умножьте тензор матрично на себя, чтобы результат был размерности 6x6\n",
        "# Подсказка: .dot может не подойти"
      ]
    },
    {
      "cell_type": "code",
      "source": [
        "b = b[:, :6] * (b[:, :6])\n",
        "print(b)\n",
        "print(b.shape)"
      ],
      "metadata": {
        "colab": {
          "base_uri": "https://localhost:8080/"
        },
        "id": "o2VDR-fJ7EZL",
        "outputId": "dc4f974f-4e88-4a82-ee24-0ec6b5af8b70"
      },
      "execution_count": 64,
      "outputs": [
        {
          "output_type": "stream",
          "name": "stdout",
          "text": [
            "tensor([[3.5142e+00, 3.7449e-01, 3.0971e-01, 4.0762e-02, 1.9006e-01, 1.9396e-01],\n",
            "        [2.1387e-02, 2.2742e+00, 1.8977e+00, 2.5809e-02, 6.4022e-01, 1.1734e+00],\n",
            "        [8.8441e-02, 7.0401e-01, 3.5999e-02, 3.9796e+00, 1.2409e+00, 1.6349e-02],\n",
            "        [1.5461e+00, 2.7735e+00, 4.0073e+00, 2.1950e-01, 9.9875e-01, 4.8766e-01],\n",
            "        [1.8848e+00, 1.3853e+00, 8.0353e-03, 1.5860e-01, 2.5906e+00, 5.9871e-01],\n",
            "        [1.3583e+00, 2.8310e-01, 1.5103e-02, 2.4536e-03, 1.1329e-01, 1.0920e-02]])\n",
            "torch.Size([6, 6])\n"
          ]
        }
      ]
    },
    {
      "cell_type": "code",
      "execution_count": null,
      "metadata": {
        "id": "u3V6CsNkofVj"
      },
      "outputs": [],
      "source": [
        "# 7. Посчитайте производную функции y = x**3 + z - 75t в точке (1, 0.5, 2)"
      ]
    },
    {
      "cell_type": "code",
      "source": [
        "u = torch.tensor([1, 0.5, 2], requires_grad=True)\n",
        "y = u**3 + u - 75*u\n",
        "y.backward(u)\n",
        "print(u.grad)"
      ],
      "metadata": {
        "colab": {
          "base_uri": "https://localhost:8080/"
        },
        "id": "StbMdlm_BusR",
        "outputId": "58242b2b-8533-48d5-ad5e-3bd212f21303"
      },
      "execution_count": 80,
      "outputs": [
        {
          "output_type": "stream",
          "name": "stdout",
          "text": [
            "tensor([ -71.0000,  -36.6250, -124.0000])\n"
          ]
        }
      ]
    },
    {
      "cell_type": "code",
      "execution_count": null,
      "metadata": {
        "id": "FzH6QkyxofVm"
      },
      "outputs": [],
      "source": [
        "# 8. Создайте единичный тензор размера 5x6"
      ]
    },
    {
      "cell_type": "code",
      "source": [
        "c = torch.zeros((5, 6))\n",
        "c"
      ],
      "metadata": {
        "colab": {
          "base_uri": "https://localhost:8080/"
        },
        "id": "m8kXBDxWC_4u",
        "outputId": "064d2b68-bf23-4304-d255-7ad2e5bddbb5"
      },
      "execution_count": 70,
      "outputs": [
        {
          "output_type": "execute_result",
          "data": {
            "text/plain": [
              "tensor([[0., 0., 0., 0., 0., 0.],\n",
              "        [0., 0., 0., 0., 0., 0.],\n",
              "        [0., 0., 0., 0., 0., 0.],\n",
              "        [0., 0., 0., 0., 0., 0.],\n",
              "        [0., 0., 0., 0., 0., 0.]])"
            ]
          },
          "metadata": {},
          "execution_count": 70
        }
      ]
    },
    {
      "cell_type": "code",
      "execution_count": null,
      "metadata": {
        "id": "z49ttvWPofVo"
      },
      "outputs": [],
      "source": [
        "# 9. Переведите его в формат numpy"
      ]
    },
    {
      "cell_type": "code",
      "source": [
        "c = c.numpy()"
      ],
      "metadata": {
        "id": "xvlPEGc-DXwr"
      },
      "execution_count": 71,
      "outputs": []
    },
    {
      "cell_type": "code",
      "source": [
        "c"
      ],
      "metadata": {
        "colab": {
          "base_uri": "https://localhost:8080/"
        },
        "id": "UQIBGNE1Diu0",
        "outputId": "9efe7e63-e920-4867-de48-45ad01598b00"
      },
      "execution_count": 74,
      "outputs": [
        {
          "output_type": "execute_result",
          "data": {
            "text/plain": [
              "array([[0., 0., 0., 0., 0., 0.],\n",
              "       [0., 0., 0., 0., 0., 0.],\n",
              "       [0., 0., 0., 0., 0., 0.],\n",
              "       [0., 0., 0., 0., 0., 0.],\n",
              "       [0., 0., 0., 0., 0., 0.]], dtype=float32)"
            ]
          },
          "metadata": {},
          "execution_count": 74
        }
      ]
    }
  ],
  "metadata": {
    "kernelspec": {
      "display_name": "Python 3",
      "language": "python",
      "name": "python3"
    },
    "language_info": {
      "codemirror_mode": {
        "name": "ipython",
        "version": 3
      },
      "file_extension": ".py",
      "mimetype": "text/x-python",
      "name": "python",
      "nbconvert_exporter": "python",
      "pygments_lexer": "ipython3",
      "version": "3.7.4"
    },
    "colab": {
      "provenance": [],
      "collapsed_sections": []
    }
  },
  "nbformat": 4,
  "nbformat_minor": 0
}