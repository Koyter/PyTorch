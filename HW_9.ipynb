{
  "nbformat": 4,
  "nbformat_minor": 0,
  "metadata": {
    "colab": {
      "provenance": [],
      "authorship_tag": "ABX9TyOukfyQJbpeEzCpQ748tNVc"
    },
    "kernelspec": {
      "name": "python3",
      "display_name": "Python 3"
    },
    "language_info": {
      "name": "python"
    }
  },
  "cells": [
    {
      "cell_type": "markdown",
      "source": [
        "Заглушка"
      ],
      "metadata": {
        "id": "lLMffIGOfSry"
      }
    },
    {
      "cell_type": "code",
      "execution_count": null,
      "metadata": {
        "id": "DT7kfjYmfOjT"
      },
      "outputs": [],
      "source": []
    }
  ]
}